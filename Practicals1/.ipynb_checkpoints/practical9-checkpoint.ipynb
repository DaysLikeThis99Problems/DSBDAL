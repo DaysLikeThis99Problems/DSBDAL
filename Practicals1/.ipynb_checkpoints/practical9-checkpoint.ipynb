{
 "cells": [
  {
   "cell_type": "code",
   "execution_count": 3,
   "id": "71231cfc-f1c2-477c-a7f7-0dfb7c2e45ba",
   "metadata": {},
   "outputs": [],
   "source": [
    "import nltk\n",
    "from nltk.tokenize import word_tokenize\n",
    "from nltk import pos_tag\n",
    "from nltk.corpus import stopwords\n",
    "from nltk.stem import PorterStemmer,WordNetLemmatizer\n",
    "from sklearn.feature_extraction.text import TfidfVectorizer\n",
    "import string"
   ]
  },
  {
   "cell_type": "code",
   "execution_count": 5,
   "id": "dec8bb79-1e39-4be7-bbdb-f51fe6c030f8",
   "metadata": {},
   "outputs": [
    {
     "name": "stderr",
     "output_type": "stream",
     "text": [
      "[nltk_data] Downloading package punkt to\n",
      "[nltk_data]     C:\\Users\\sumit\\AppData\\Roaming\\nltk_data...\n",
      "[nltk_data]   Package punkt is already up-to-date!\n",
      "[nltk_data] Downloading package punkt_tab to\n",
      "[nltk_data]     C:\\Users\\sumit\\AppData\\Roaming\\nltk_data...\n",
      "[nltk_data]   Unzipping tokenizers\\punkt_tab.zip.\n",
      "[nltk_data] Downloading package averaged_perceptron_tagger to\n",
      "[nltk_data]     C:\\Users\\sumit\\AppData\\Roaming\\nltk_data...\n",
      "[nltk_data]   Unzipping taggers\\averaged_perceptron_tagger.zip.\n",
      "[nltk_data] Downloading package averaged_perceptron_tagger_eng to\n",
      "[nltk_data]     C:\\Users\\sumit\\AppData\\Roaming\\nltk_data...\n",
      "[nltk_data]   Unzipping taggers\\averaged_perceptron_tagger_eng.zip.\n",
      "[nltk_data] Downloading package stopwords to\n",
      "[nltk_data]     C:\\Users\\sumit\\AppData\\Roaming\\nltk_data...\n",
      "[nltk_data]   Package stopwords is already up-to-date!\n",
      "[nltk_data] Downloading package wordnet to\n",
      "[nltk_data]     C:\\Users\\sumit\\AppData\\Roaming\\nltk_data...\n"
     ]
    },
    {
     "data": {
      "text/plain": [
       "True"
      ]
     },
     "execution_count": 5,
     "metadata": {},
     "output_type": "execute_result"
    }
   ],
   "source": [
    "#downloading essentials\n",
    "nltk.download('punkt')\n",
    "nltk.download('punkt_tab') \n",
    "nltk.download('averaged_perceptron_tagger')\n",
    "nltk.download('averaged_perceptron_tagger_eng')\n",
    "nltk.download('stopwords')\n",
    "nltk.download('wordnet')\n"
   ]
  },
  {
   "cell_type": "code",
   "execution_count": 7,
   "id": "ed0862e7-0e9b-48e0-bce8-59d4ad55c21f",
   "metadata": {},
   "outputs": [],
   "source": [
    "#creating document\n",
    "document = \"Natural Language Processing helps computers understand human language. It includes tasks like text classification, sentiment analysis, and machine translation.\""
   ]
  },
  {
   "cell_type": "code",
   "execution_count": 9,
   "id": "e39b80c8-0529-4b89-849a-d85614614cf4",
   "metadata": {},
   "outputs": [],
   "source": [
    "\n",
    "#converting text into tokens\n",
    "tokens = word_tokenize(document)\n"
   ]
  },
  {
   "cell_type": "code",
   "execution_count": 11,
   "id": "110ef2e5-81b1-4897-99b0-990bcd11b773",
   "metadata": {},
   "outputs": [],
   "source": [
    "#adding parts of speech(pos) to tokens\n",
    "pos_tagging=pos_tag(tokens)"
   ]
  },
  {
   "cell_type": "code",
   "execution_count": 13,
   "id": "7d889c12-f52e-4fbb-a33b-5fc86bc5fc00",
   "metadata": {},
   "outputs": [],
   "source": [
    "#Removing noisy words from set of tokens which are not present in stop words and not has punctuations\n",
    "stop_words=set(stopwords.words('english'))\n",
    "filter_words=[word for word in tokens if word.lower() not in stop_words and word not in string.punctuation]"
   ]
  },
  {
   "cell_type": "code",
   "execution_count": 15,
   "id": "a06f4eed-11c7-4b3f-aa03-353d81f71472",
   "metadata": {},
   "outputs": [],
   "source": [
    "#converting filter words into root words\n",
    "stemmer=PorterStemmer()\n",
    "stem_tokens=[stemmer.stem(word) for word in filter_words]"
   ]
  },
  {
   "cell_type": "code",
   "execution_count": 17,
   "id": "941eb3c5-0358-4847-9f57-baa4776ff5a1",
   "metadata": {},
   "outputs": [],
   "source": [
    "lemmatizer = WordNetLemmatizer()\n",
    "lemmatized_tokens = [lemmatizer.lemmatize(word) for word in filter_words]"
   ]
  },
  {
   "cell_type": "code",
   "execution_count": 19,
   "id": "28152501-9dde-403a-bffa-9615218f1015",
   "metadata": {},
   "outputs": [
    {
     "name": "stdout",
     "output_type": "stream",
     "text": [
      "Original Tokens: ['Natural', 'Language', 'Processing', 'helps', 'computers', 'understand', 'human', 'language', '.', 'It', 'includes', 'tasks', 'like', 'text', 'classification', ',', 'sentiment', 'analysis', ',', 'and', 'machine', 'translation', '.']\n",
      "\n",
      "POS Tags: [('Natural', 'JJ'), ('Language', 'NNP'), ('Processing', 'NNP'), ('helps', 'VBZ'), ('computers', 'NNS'), ('understand', 'VBP'), ('human', 'JJ'), ('language', 'NN'), ('.', '.'), ('It', 'PRP'), ('includes', 'VBZ'), ('tasks', 'NNS'), ('like', 'IN'), ('text', 'JJ'), ('classification', 'NN'), (',', ','), ('sentiment', 'NN'), ('analysis', 'NN'), (',', ','), ('and', 'CC'), ('machine', 'NN'), ('translation', 'NN'), ('.', '.')]\n",
      "\n",
      "Filtered Tokens (No Stop Words): ['Natural', 'Language', 'Processing', 'helps', 'computers', 'understand', 'human', 'language', 'includes', 'tasks', 'like', 'text', 'classification', 'sentiment', 'analysis', 'machine', 'translation']\n",
      "\n",
      "Stemmed Tokens: ['natur', 'languag', 'process', 'help', 'comput', 'understand', 'human', 'languag', 'includ', 'task', 'like', 'text', 'classif', 'sentiment', 'analysi', 'machin', 'translat']\n",
      "\n",
      "Lemmatized Tokens: ['Natural', 'Language', 'Processing', 'help', 'computer', 'understand', 'human', 'language', 'includes', 'task', 'like', 'text', 'classification', 'sentiment', 'analysis', 'machine', 'translation']\n",
      "\n"
     ]
    }
   ],
   "source": [
    "\n",
    "print(\"Original Tokens:\", tokens) \n",
    "print()\n",
    "print(\"POS Tags:\", pos_tagging)\n",
    "print()\n",
    "print(\"Filtered Tokens (No Stop Words):\", filter_words)\n",
    "print()\n",
    "print(\"Stemmed Tokens:\", stem_tokens)\n",
    "print()\n",
    "print(\"Lemmatized Tokens:\", lemmatized_tokens)\n",
    "print()"
   ]
  },
  {
   "cell_type": "code",
   "execution_count": 21,
   "id": "287e73fb-d89d-417a-b063-49b2b7827bda",
   "metadata": {},
   "outputs": [],
   "source": [
    "documents = [\n",
    "    document,\n",
    "    \"Machine learning is a subfield of artificial intelligence that focuses on building systems that learn from data.\",\n",
    "    \"Text classification is a task in NLP to categorize text into organized groups.\"\n",
    "]"
   ]
  },
  {
   "cell_type": "code",
   "execution_count": 23,
   "id": "3d30637c-c8cb-4530-baa1-b7c4a32225f8",
   "metadata": {},
   "outputs": [],
   "source": [
    "#technique to see term frequency and inverse term frequency...how important that term has in the given document\n",
    "vectorizer = TfidfVectorizer()\n",
    "tfidf_matrix = vectorizer.fit_transform(documents)"
   ]
  },
  {
   "cell_type": "code",
   "execution_count": 25,
   "id": "58944475-c6ab-45ae-bcc3-61127f85283f",
   "metadata": {},
   "outputs": [
    {
     "name": "stdout",
     "output_type": "stream",
     "text": [
      "\n",
      "TF-IDF Matrix:\n",
      "[[0.22510195 0.22510195 0.         0.         0.         0.17119583\n",
      "  0.22510195 0.         0.         0.         0.         0.22510195\n",
      "  0.22510195 0.         0.22510195 0.         0.         0.\n",
      "  0.22510195 0.45020389 0.         0.         0.22510195 0.17119583\n",
      "  0.22510195 0.         0.         0.         0.         0.22510195\n",
      "  0.22510195 0.         0.         0.         0.22510195 0.17119583\n",
      "  0.         0.         0.22510195 0.22510195]\n",
      " [0.         0.         0.24142479 0.24142479 0.         0.\n",
      "  0.         0.24142479 0.24142479 0.24142479 0.         0.\n",
      "  0.         0.         0.         0.24142479 0.         0.18360978\n",
      "  0.         0.         0.24142479 0.24142479 0.         0.18360978\n",
      "  0.         0.         0.24142479 0.24142479 0.         0.\n",
      "  0.         0.24142479 0.24142479 0.         0.         0.\n",
      "  0.48284959 0.         0.         0.        ]\n",
      " [0.         0.         0.         0.         0.29526419 0.22455603\n",
      "  0.         0.         0.         0.         0.29526419 0.\n",
      "  0.         0.29526419 0.         0.         0.29526419 0.22455603\n",
      "  0.         0.         0.         0.         0.         0.\n",
      "  0.         0.29526419 0.         0.         0.29526419 0.\n",
      "  0.         0.         0.         0.29526419 0.         0.44911206\n",
      "  0.         0.29526419 0.         0.        ]]\n"
     ]
    }
   ],
   "source": [
    "print(\"\\nTF-IDF Matrix:\")\n",
    "print(tfidf_matrix.toarray())"
   ]
  },
  {
   "cell_type": "code",
   "execution_count": 27,
   "id": "a12f9f56-832c-4930-8ef8-5913afd9a48d",
   "metadata": {},
   "outputs": [
    {
     "name": "stdout",
     "output_type": "stream",
     "text": [
      "\n",
      "Feature Names (Vocabulary):\n",
      "['analysis' 'and' 'artificial' 'building' 'categorize' 'classification'\n",
      " 'computers' 'data' 'focuses' 'from' 'groups' 'helps' 'human' 'in'\n",
      " 'includes' 'intelligence' 'into' 'is' 'it' 'language' 'learn' 'learning'\n",
      " 'like' 'machine' 'natural' 'nlp' 'of' 'on' 'organized' 'processing'\n",
      " 'sentiment' 'subfield' 'systems' 'task' 'tasks' 'text' 'that' 'to'\n",
      " 'translation' 'understand']\n"
     ]
    }
   ],
   "source": [
    "print(\"\\nFeature Names (Vocabulary):\")\n",
    "print(vectorizer.get_feature_names_out())"
   ]
  },
  {
   "cell_type": "code",
   "execution_count": null,
   "id": "e8d5b7cf-2109-444a-8e74-1e256777c252",
   "metadata": {},
   "outputs": [],
   "source": []
  }
 ],
 "metadata": {
  "kernelspec": {
   "display_name": "Python [conda env:base] *",
   "language": "python",
   "name": "conda-base-py"
  },
  "language_info": {
   "codemirror_mode": {
    "name": "ipython",
    "version": 3
   },
   "file_extension": ".py",
   "mimetype": "text/x-python",
   "name": "python",
   "nbconvert_exporter": "python",
   "pygments_lexer": "ipython3",
   "version": "3.12.7"
  }
 },
 "nbformat": 4,
 "nbformat_minor": 5
}
